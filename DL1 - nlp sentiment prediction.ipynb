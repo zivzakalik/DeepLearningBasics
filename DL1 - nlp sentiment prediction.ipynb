{
 "cells": [
  {
   "cell_type": "markdown",
   "metadata": {
    "id": "byz0GP-kMaxN"
   },
   "source": [
    "# <u>Submission instructions</u>\n",
    "### Submission in pairs unless otherwise authorized\n",
    "<ul style=\"font-size: 17px\">\n",
    "<li> This notebook contains all the questions. You should follow the instructions below.</li>\n",
    "<li> Solutions for both theoretical and practical parts should be written in this notebook</li>\n",
    "</ul>\n",
    "\n",
    "<h3> Moodle submission</h3>\n",
    "\n",
    "\n",
    "<p style=\"font-size: 17px\">\n",
    "You should submit three files:\n",
    "</p>\n",
    "<ul style=\"font-size: 17px\">\n",
    "<li>IPYNB notebook:\n",
    "  <ul>\n",
    "  <li>All the wet and dry parts, including code, graphs, discussion, etc.</li>\n",
    "  </ul>\n",
    "</li>\n",
    "<li>PDF file:\n",
    "  <ul>\n",
    "  <li>Export the notebook to PDF. Make sure that all the cells are visible.</li>\n",
    "  </ul>\n",
    "</li>\n",
    "</ul>\n",
    "<p style=\"font-size: 17px\">\n",
    "All files should be in the following format: \"HW2_ID1_ID2.file\"\n",
    "<br>\n",
    "Good Luck!\n",
    "</p>"
   ]
  },
  {
   "cell_type": "markdown",
   "metadata": {
    "id": "O7kvRsEYMaxO"
   },
   "source": [
    "# Question 1 - Generalizrtion and Overfit (30 pt)"
   ]
  },
  {
   "cell_type": "markdown",
   "metadata": {
    "id": "BgIVa_5nMaxP"
   },
   "source": [
    "<p style=\"font-size: 17px\"> In this exercise, we will demonstrate overfitting to random labels.The settings are the following:\n",
    "<ul style=\"font-size: 17px\">\n",
    "<li> Use the MNIST dataset.\n",
    "<li> Work on the first 128 samples from the training dataset.\n",
    "<li> Fix the following parameters:\n",
    "    <ul>\n",
    "        <li> Shuffle to False.\n",
    "        <li> Batch size to 128.\n",
    "    </ul>\n",
    "<li> Generate random labels from Bernoulli distribution with a probability of $\\frac{1}{2}$. I.e.,each sample is assigned a random label which is zero or one.\n",
    "</ul>\n",
    "\n",
    "<p style=\"font-size: 17px\">\n",
    "Show that by using a Fully Connected netwrok and cross-entropy loss, you are able to achieve a loss value of ~0 (the lower the better).\n",
    "Plot the accuracy and loss convergence for this data and the test data as a function of epochs.\n",
    "What is the accuracy value of the test data? Explain\n",
    "</p>"
   ]
  },
  {
   "cell_type": "code",
   "execution_count": 1,
   "metadata": {},
   "outputs": [],
   "source": [
    "import numpy as np\n",
    "import torch\n",
    "import torch.nn as nn\n",
    "from torch.utils.data import Dataset, DataLoader, Subset\n",
    "import pandas as pd\n",
    "from tqdm import tqdm, trange\n",
    "import numpy as np\n",
    "import torchvision\n",
    "from torch import nn\n",
    "from torchvision import datasets, transforms\n",
    "import torch.nn.functional as F\n",
    "import matplotlib.pyplot as plt\n"
   ]
  },
  {
   "cell_type": "code",
   "execution_count": 2,
   "metadata": {},
   "outputs": [
    {
     "name": "stdout",
     "output_type": "stream",
     "text": [
      "Downloading http://yann.lecun.com/exdb/mnist/train-images-idx3-ubyte.gz\n",
      "Downloading http://yann.lecun.com/exdb/mnist/train-images-idx3-ubyte.gz to ./data\\MNIST\\raw\\train-images-idx3-ubyte.gz\n"
     ]
    },
    {
     "name": "stderr",
     "output_type": "stream",
     "text": [
      "100%|██████████| 9912422/9912422 [00:00<00:00, 30807708.53it/s]\n"
     ]
    },
    {
     "name": "stdout",
     "output_type": "stream",
     "text": [
      "Extracting ./data\\MNIST\\raw\\train-images-idx3-ubyte.gz to ./data\\MNIST\\raw\n",
      "\n",
      "Downloading http://yann.lecun.com/exdb/mnist/train-labels-idx1-ubyte.gz\n",
      "Downloading http://yann.lecun.com/exdb/mnist/train-labels-idx1-ubyte.gz to ./data\\MNIST\\raw\\train-labels-idx1-ubyte.gz\n"
     ]
    },
    {
     "name": "stderr",
     "output_type": "stream",
     "text": [
      "100%|██████████| 28881/28881 [00:00<00:00, 28855572.61it/s]"
     ]
    },
    {
     "name": "stdout",
     "output_type": "stream",
     "text": [
      "Extracting ./data\\MNIST\\raw\\train-labels-idx1-ubyte.gz to ./data\\MNIST\\raw\n",
      "\n",
      "Downloading http://yann.lecun.com/exdb/mnist/t10k-images-idx3-ubyte.gz\n"
     ]
    },
    {
     "name": "stderr",
     "output_type": "stream",
     "text": [
      "\n"
     ]
    },
    {
     "name": "stdout",
     "output_type": "stream",
     "text": [
      "Downloading http://yann.lecun.com/exdb/mnist/t10k-images-idx3-ubyte.gz to ./data\\MNIST\\raw\\t10k-images-idx3-ubyte.gz\n"
     ]
    },
    {
     "name": "stderr",
     "output_type": "stream",
     "text": [
      "100%|██████████| 1648877/1648877 [00:00<00:00, 8934602.23it/s]\n"
     ]
    },
    {
     "name": "stdout",
     "output_type": "stream",
     "text": [
      "Extracting ./data\\MNIST\\raw\\t10k-images-idx3-ubyte.gz to ./data\\MNIST\\raw\n",
      "\n",
      "Downloading http://yann.lecun.com/exdb/mnist/t10k-labels-idx1-ubyte.gz\n",
      "Downloading http://yann.lecun.com/exdb/mnist/t10k-labels-idx1-ubyte.gz to ./data\\MNIST\\raw\\t10k-labels-idx1-ubyte.gz\n"
     ]
    },
    {
     "name": "stderr",
     "output_type": "stream",
     "text": [
      "100%|██████████| 4542/4542 [00:00<?, ?it/s]"
     ]
    },
    {
     "name": "stdout",
     "output_type": "stream",
     "text": [
      "Extracting ./data\\MNIST\\raw\\t10k-labels-idx1-ubyte.gz to ./data\\MNIST\\raw\n",
      "\n"
     ]
    },
    {
     "name": "stderr",
     "output_type": "stream",
     "text": [
      "\n"
     ]
    }
   ],
   "source": [
    "# Transformation for the MNIST dataset\n",
    "transform = transforms.Compose([\n",
    "    transforms.ToTensor(), \n",
    "    transforms.Normalize(mean=[0.3081], std=[0.1306])\n",
    "])\n",
    "\n",
    "# MNIST Datasets (Images and Labels)\n",
    "train_dataset = datasets.MNIST(root='./data', train=True, transform=transform, download=True)\n",
    "test_dataset = datasets.MNIST(root='./data', train=False, transform=transform, download=True)\n",
    "\n",
    "# Restricting the dataset to the first 128 samples\n",
    "subset_indices = list(range(128))  # Indices for the first 128 samples\n",
    "train_dataset_subset = Subset(train_dataset, subset_indices)\n",
    "\n",
    "# Generating random labels\n",
    "# Bernoulli distribution can be simulated using a binomial distribution with n=1\n",
    "random_labels = torch.randint(0, 2, (128,))  # Generate 128 random 0s or 1s\n",
    "train_dataset_subset.dataset.targets[:128] = random_labels  # Replace the first 128 labels\n",
    "\n",
    "# Dataset Loaders (Input Pipeline)\n",
    "batch_size = 128  # Make sure to set your batch size to 128\n",
    "train_loader = DataLoader(dataset=train_dataset_subset, batch_size=batch_size, shuffle=False)\n",
    "test_loader = DataLoader(dataset=test_dataset, batch_size=batch_size, shuffle=False)\n"
   ]
  },
  {
   "cell_type": "code",
   "execution_count": 3,
   "metadata": {},
   "outputs": [],
   "source": [
    "for images, _ in train_loader:  # Original labels are not needed\n",
    "    random_labels = torch.bernoulli(0.5 * torch.ones(len(images)))  # Generate random labels\n",
    "    # Proceed to use these random_labels as your targets in training\n",
    "# Generating random labels for the test dataset\n",
    "test_random_labels = torch.bernoulli(0.5 * torch.ones(len(test_dataset)))  # Adjust the size if different\n"
   ]
  },
  {
   "cell_type": "code",
   "execution_count": 4,
   "metadata": {},
   "outputs": [],
   "source": [
    "\n",
    "class FullyConnectedNet(nn.Module):\n",
    "    def __init__(self):\n",
    "        super(FullyConnectedNet, self).__init__()\n",
    "        # Define layers\n",
    "        self.fc1 = nn.Linear(28*28, 512)  # 28*28 is the size of MNIST images, 512 is arbitrary\n",
    "        self.fc2 = nn.Linear(512, 128)    # Another layer, can be adjusted\n",
    "        self.fc3 = nn.Linear(128, 2)      # Output layer: 2 units for 2 classes\n",
    "\n",
    "    def forward(self, x):\n",
    "        x = x.view(-1, 28*28)  # Flatten the image\n",
    "        x = F.relu(self.fc1(x))\n",
    "        x = F.relu(self.fc2(x))\n",
    "        x = self.fc3(x)\n",
    "        return x\n"
   ]
  },
  {
   "cell_type": "code",
   "execution_count": 5,
   "metadata": {},
   "outputs": [],
   "source": [
    "# Initialize the model\n",
    "model = FullyConnectedNet()\n",
    "\n",
    "# If you have a GPU available and want to use it, move the model to GPU\n",
    "if torch.cuda.is_available():\n",
    "    model = model.cuda()\n"
   ]
  },
  {
   "cell_type": "code",
   "execution_count": 6,
   "metadata": {},
   "outputs": [],
   "source": [
    "import torch.optim as optim\n",
    "\n",
    "# Loss function\n",
    "criterion = nn.CrossEntropyLoss()\n",
    "\n",
    "# Optimizer (we use Adam here, but you can change to SGD or others)\n",
    "optimizer = optim.Adam(model.parameters(), lr=0.001)  # Adjust learning rate as needed\n"
   ]
  },
  {
   "cell_type": "code",
   "execution_count": 7,
   "metadata": {},
   "outputs": [
    {
     "data": {
      "text/plain": [
       "FullyConnectedNet(\n",
       "  (fc1): Linear(in_features=784, out_features=512, bias=True)\n",
       "  (fc2): Linear(in_features=512, out_features=128, bias=True)\n",
       "  (fc3): Linear(in_features=128, out_features=2, bias=True)\n",
       ")"
      ]
     },
     "execution_count": 7,
     "metadata": {},
     "output_type": "execute_result"
    }
   ],
   "source": [
    "device = torch.device(\"cuda:0\" if torch.cuda.is_available() else \"cpu\")\n",
    "model.to(device)"
   ]
  },
  {
   "cell_type": "code",
   "execution_count": 8,
   "metadata": {},
   "outputs": [
    {
     "name": "stdout",
     "output_type": "stream",
     "text": [
      "Epoch 1: Train Loss: 0.7093425989151001, Test Loss: 1.4763981118986877, Test Accuracy: 50.52%\n",
      "Epoch 2: Train Loss: 1.2849161624908447, Test Loss: 0.7602776402159582, Test Accuracy: 50.63%\n",
      "Epoch 3: Train Loss: 0.6275054812431335, Test Loss: 0.7554059534133235, Test Accuracy: 49.76%\n",
      "Epoch 4: Train Loss: 0.7072540521621704, Test Loss: 0.736461778230305, Test Accuracy: 49.73%\n",
      "Epoch 5: Train Loss: 0.6753084659576416, Test Loss: 0.7003676242466215, Test Accuracy: 50.44%\n",
      "Epoch 6: Train Loss: 0.6171572208404541, Test Loss: 0.7094038408013839, Test Accuracy: 50.78%\n",
      "Epoch 7: Train Loss: 0.6022339463233948, Test Loss: 0.7270557382438756, Test Accuracy: 50.44%\n",
      "Epoch 8: Train Loss: 0.5916330814361572, Test Loss: 0.7286203971391991, Test Accuracy: 50.83%\n",
      "Epoch 9: Train Loss: 0.5653254985809326, Test Loss: 0.7294050953056239, Test Accuracy: 50.99%\n",
      "Epoch 10: Train Loss: 0.5359562635421753, Test Loss: 0.7499208057983012, Test Accuracy: 50.45%\n",
      "Epoch 11: Train Loss: 0.5180232524871826, Test Loss: 0.7710614755183836, Test Accuracy: 50.83%\n",
      "Epoch 12: Train Loss: 0.4860519766807556, Test Loss: 0.8043889086457747, Test Accuracy: 50.87%\n",
      "Epoch 13: Train Loss: 0.46070095896720886, Test Loss: 0.8245762156534798, Test Accuracy: 50.81%\n",
      "Epoch 14: Train Loss: 0.42929115891456604, Test Loss: 0.8377349331409116, Test Accuracy: 51.01%\n",
      "Epoch 15: Train Loss: 0.39919108152389526, Test Loss: 0.8537218517894987, Test Accuracy: 50.9%\n",
      "Epoch 16: Train Loss: 0.3676307797431946, Test Loss: 0.8784357671496235, Test Accuracy: 50.85%\n",
      "Epoch 17: Train Loss: 0.3383745849132538, Test Loss: 0.8907238750518123, Test Accuracy: 50.71%\n",
      "Epoch 18: Train Loss: 0.3050411343574524, Test Loss: 0.9146430054797402, Test Accuracy: 50.73%\n",
      "Epoch 19: Train Loss: 0.2782726287841797, Test Loss: 0.947280240964286, Test Accuracy: 50.85%\n",
      "Epoch 20: Train Loss: 0.24491363763809204, Test Loss: 0.9863824414301522, Test Accuracy: 50.85%\n",
      "Epoch 21: Train Loss: 0.21593646705150604, Test Loss: 1.0263296245019646, Test Accuracy: 50.91%\n",
      "Epoch 22: Train Loss: 0.19026733934879303, Test Loss: 1.0768885786020304, Test Accuracy: 51.17%\n",
      "Epoch 23: Train Loss: 0.16182436048984528, Test Loss: 1.1322651490380493, Test Accuracy: 51.14%\n",
      "Epoch 24: Train Loss: 0.13837526738643646, Test Loss: 1.1850655569305903, Test Accuracy: 51.07%\n",
      "Epoch 25: Train Loss: 0.11860477179288864, Test Loss: 1.2486774778064293, Test Accuracy: 51.06%\n",
      "Epoch 26: Train Loss: 0.09784668684005737, Test Loss: 1.3126098913482473, Test Accuracy: 51.02%\n",
      "Epoch 27: Train Loss: 0.08210676908493042, Test Loss: 1.3731719843948944, Test Accuracy: 51.22%\n",
      "Epoch 28: Train Loss: 0.06914816796779633, Test Loss: 1.4471429420422903, Test Accuracy: 51.0%\n",
      "Epoch 29: Train Loss: 0.055737387388944626, Test Loss: 1.5207297862330569, Test Accuracy: 51.0%\n",
      "Epoch 30: Train Loss: 0.0456683523952961, Test Loss: 1.5877339206164396, Test Accuracy: 51.11%\n",
      "Epoch 31: Train Loss: 0.037778038531541824, Test Loss: 1.6687955086744284, Test Accuracy: 51.07%\n",
      "Epoch 32: Train Loss: 0.03032509982585907, Test Loss: 1.7570462392855295, Test Accuracy: 51.43%\n",
      "Epoch 33: Train Loss: 0.02524431049823761, Test Loss: 1.8288021057466917, Test Accuracy: 51.34%\n",
      "Epoch 34: Train Loss: 0.02036294713616371, Test Loss: 1.9056798883631259, Test Accuracy: 51.48%\n",
      "Epoch 35: Train Loss: 0.016998102888464928, Test Loss: 1.9903606583800497, Test Accuracy: 51.5%\n",
      "Epoch 36: Train Loss: 0.013885336928069592, Test Loss: 2.071018098275873, Test Accuracy: 51.44%\n",
      "Epoch 37: Train Loss: 0.011645292863249779, Test Loss: 2.13704123376291, Test Accuracy: 51.46%\n",
      "Epoch 38: Train Loss: 0.009514820761978626, Test Loss: 2.2035109363024747, Test Accuracy: 51.47%\n",
      "Epoch 39: Train Loss: 0.0080120163038373, Test Loss: 2.2762184475041645, Test Accuracy: 51.39%\n",
      "Epoch 40: Train Loss: 0.0065713790245354176, Test Loss: 2.3507327686382244, Test Accuracy: 51.55%\n",
      "Epoch 41: Train Loss: 0.005505835637450218, Test Loss: 2.414411472368844, Test Accuracy: 51.56%\n",
      "Epoch 42: Train Loss: 0.0046030315570533276, Test Loss: 2.467283402817159, Test Accuracy: 51.4%\n",
      "Epoch 43: Train Loss: 0.0038118634838610888, Test Loss: 2.5195386289041255, Test Accuracy: 51.27%\n",
      "Epoch 44: Train Loss: 0.0032596737146377563, Test Loss: 2.5746463823922072, Test Accuracy: 51.34%\n",
      "Epoch 45: Train Loss: 0.0027281534858047962, Test Loss: 2.631125985821591, Test Accuracy: 51.41%\n",
      "Epoch 46: Train Loss: 0.0022827533539384604, Test Loss: 2.6832817144031766, Test Accuracy: 51.38%\n",
      "Epoch 47: Train Loss: 0.001966786803677678, Test Loss: 2.727518997614897, Test Accuracy: 51.4%\n",
      "Epoch 48: Train Loss: 0.0016754067037254572, Test Loss: 2.7653931681113906, Test Accuracy: 51.41%\n",
      "Epoch 49: Train Loss: 0.0014210165245458484, Test Loss: 2.800397172758851, Test Accuracy: 51.36%\n",
      "Epoch 50: Train Loss: 0.0012327709700912237, Test Loss: 2.834889605075498, Test Accuracy: 51.31%\n",
      "Epoch 51: Train Loss: 0.0010866005904972553, Test Loss: 2.8693263228935533, Test Accuracy: 51.34%\n",
      "Epoch 52: Train Loss: 0.0009572072885930538, Test Loss: 2.9031508783750897, Test Accuracy: 51.26%\n",
      "Epoch 53: Train Loss: 0.0008423376129940152, Test Loss: 2.935376091848446, Test Accuracy: 51.33%\n",
      "Epoch 54: Train Loss: 0.0007497315527871251, Test Loss: 2.9649443686762944, Test Accuracy: 51.33%\n",
      "Epoch 55: Train Loss: 0.0006752891931682825, Test Loss: 2.9912480372416823, Test Accuracy: 51.24%\n",
      "Epoch 56: Train Loss: 0.0006139047327451408, Test Loss: 3.0142205908328674, Test Accuracy: 51.21%\n",
      "Epoch 57: Train Loss: 0.0005591756198555231, Test Loss: 3.034348677985276, Test Accuracy: 51.26%\n",
      "Epoch 58: Train Loss: 0.0005102351424284279, Test Loss: 3.0524500563174866, Test Accuracy: 51.26%\n",
      "Epoch 59: Train Loss: 0.00046852114610373974, Test Loss: 3.0692614875262296, Test Accuracy: 51.23%\n",
      "Epoch 60: Train Loss: 0.00043341852142475545, Test Loss: 3.08528209637992, Test Accuracy: 51.27%\n"
     ]
    }
   ],
   "source": [
    "num_epochs = 60\n",
    "# Initialize lists to keep track of the training and testing metrics\n",
    "train_losses = []\n",
    "train_accuracies = []\n",
    "test_losses = []\n",
    "test_accuracies = []\n",
    "# Modified Training Loop with Test Evaluation\n",
    "for epoch in range(num_epochs):\n",
    "    model.train()  # Training mode\n",
    "    running_loss = 0.0\n",
    "    correct = 0\n",
    "    total = 0\n",
    "\n",
    "    for images, labels in train_loader:\n",
    "        if torch.cuda.is_available():\n",
    "            images, labels = images.cuda(), labels.cuda()\n",
    "\n",
    "        optimizer.zero_grad()\n",
    "        outputs = model(images)\n",
    "        loss = criterion(outputs, labels.long())\n",
    "        loss.backward()\n",
    "        optimizer.step()\n",
    "\n",
    "        running_loss += loss.item()\n",
    "        _, predicted = torch.max(outputs.data, 1)\n",
    "        total += labels.size(0)\n",
    "        correct += (predicted == labels).sum().item()\n",
    "\n",
    "    train_losses.append(running_loss / len(train_loader))\n",
    "    train_accuracies.append(100 * correct / total)\n",
    "\n",
    "    # Switch to evaluation mode for testing\n",
    "    model.eval() \n",
    "    running_loss = 0.0\n",
    "    correct = 0\n",
    "    total = 0\n",
    "\n",
    "    with torch.no_grad():  # No need to track gradients during evaluation\n",
    "        for i, (images, _) in enumerate(test_loader):  # Original labels are ignored\n",
    "            if torch.cuda.is_available():\n",
    "                images = images.cuda()\n",
    "            outputs = model(images)\n",
    "\n",
    "            # Generating and using the random labels for the test dataset\n",
    "            random_labels = test_random_labels[i * batch_size: (i+1) * batch_size]\n",
    "            if torch.cuda.is_available():\n",
    "                random_labels = random_labels.cuda()\n",
    "            random_labels = random_labels.to(dtype=torch.long)  # Ensure correct data type for comparison\n",
    "\n",
    "            loss = criterion(outputs, random_labels)  # Compute the loss based on random labels\n",
    "            running_loss += loss.item()\n",
    "            _, predicted = torch.max(outputs.data, 1)\n",
    "            total += random_labels.size(0)\n",
    "            correct += (predicted == random_labels).sum().item()\n",
    "\n",
    "        test_losses.append(running_loss / len(test_loader))\n",
    "        test_accuracies.append(100 * correct / total)\n",
    "\n",
    "    # Print the metrics for the current epoch\n",
    "    print(f'Epoch {epoch+1}: Train Loss: {train_losses[-1]}, Test Loss: {test_losses[-1]}, Test Accuracy: {test_accuracies[-1]}%')\n"
   ]
  },
  {
   "cell_type": "code",
   "execution_count": 25,
   "metadata": {},
   "outputs": [
    {
     "data": {
      "image/png": "[encoded data removed]",
      "text/plain": [
       "<Figure size 1400x1000 with 4 Axes>"
      ]
     },
     "metadata": {},
     "output_type": "display_data"
    }
   ],
   "source": [
    "import matplotlib.pyplot as plt\n",
    "\n",
    "# Setting up the figure and axes for a 2x2 grid of plots\n",
    "plt.figure(figsize=(14, 10))  # Wider figure for clearer subplots\n",
    "\n",
    "# Plotting Train Loss\n",
    "plt.subplot(2, 2, 1)  # (2, 2, 1) means 2 rows, 2 columns, position 1\n",
    "plt.plot(train_losses, label='Train Loss', color='blue')\n",
    "plt.title('Training Loss Convergence')\n",
    "plt.xlabel('Epochs')\n",
    "plt.ylabel('Loss')\n",
    "plt.ylim(0, 4)  # Limiting y-axis for better visualization\n",
    "plt.legend()\n",
    "\n",
    "# Plotting Test Loss\n",
    "plt.subplot(2, 2, 2)  # (2, 2, 2) means 2 rows, 2 columns, position 2\n",
    "plt.plot(test_losses, label='Test Loss', color='red')\n",
    "plt.title('Testing Loss Convergence')\n",
    "plt.xlabel('Epochs')\n",
    "plt.ylabel('Loss')\n",
    "plt.ylim(0, 4)  # Limiting y-axis for better visualization\n",
    "plt.legend()\n",
    "\n",
    "# Plotting Train Accuracy\n",
    "plt.subplot(2, 2, 3)  # (2, 2, 3) means 2 rows, 2 columns, position 3\n",
    "plt.plot(train_accuracies, label='Train Accuracy', color='green')\n",
    "plt.title('Training Accuracy Convergence')\n",
    "plt.xlabel('Epochs')\n",
    "plt.ylabel('Accuracy (%)')\n",
    "plt.ylim(0, 101)  # Limiting y-axis for better visualization\n",
    "plt.legend()\n",
    "\n",
    "# Plotting Test Accuracy\n",
    "plt.subplot(2, 2, 4)  # (2, 2, 4) means 2 rows, 2 columns, position 4\n",
    "plt.plot(test_accuracies, label='Test Accuracy', color='purple')\n",
    "plt.title('Testing Accuracy Convergence')\n",
    "plt.xlabel('Epochs')\n",
    "plt.ylabel('Accuracy (%)')\n",
    "plt.ylim(0, 100)  # Limiting y-axis for better visualization\n",
    "plt.legend()\n",
    "\n",
    "# Display the plots\n",
    "plt.tight_layout()  # Adjusts subplot params for better spacing\n",
    "plt.show()\n"
   ]
  },
  {
   "cell_type": "markdown",
   "metadata": {},
   "source": [
    "# Analysis of Overfitting with Random Labels\n",
    "\n",
    "The provided plots illustrate key concepts related to overfitting, particularly when training a model on data with randomly assigned binary labels. Below is a breakdown of each plot and its implications.\n",
    "\n",
    "## Training Loss Convergence\n",
    "\n",
    "\n",
    "\n",
    "The **Training Loss Convergence** plot shows a steady decrease in loss over epochs, approaching a value close to zero. This indicates the Fully Connected network's effective learning from the training data. However, given the random label assignments, this \"learning\" is essentially the network memorizing arbitrary associations between input images and their labels, rather than discerning any meaningful, generalizable patterns.\n",
    "\n",
    "## Testing Loss Convergence\n",
    "\n",
    "\n",
    "\n",
    "Conversely, the **Testing Loss Convergence** plot displays an increasing trend in loss over epochs, a classic indicator of overfitting. The model, increasingly proficient at predicting the training set's random labels, fails to effectively generalize this \"knowledge\" to the test set. This increasing loss reflects the model's predictions for the unseen test data being no better than random guessing.\n",
    "\n",
    "## Training Accuracy Convergence\n",
    "\n",
    "\n",
    "\n",
    "The **Training Accuracy** plot demonstrates that the model achieves near-perfect accuracy on the training data, expected as the model memorizes the training set, including its random labels. However, this accuracy is misleading as it does not reflect the model's ability to generalize to new data.\n",
    "\n",
    "## Testing Accuracy Convergence\n",
    "\n",
    "\n",
    "\n",
    "The **Testing Accuracy** plot shows fluctuations around the 50% mark, indicative of random guessing. This performance aligns with expectations for a model evaluated on data with randomly assigned binary labels. The accuracy's consistency around 50% underscores the model's inability to learn meaningful patterns from the training data applicable to the test data.\n",
    "\n",
    "## Explanation and Conclusion\n",
    "\n",
    "These results present a clear case of overfitting, where a model trained on data with random labels exhibits impressive performance on this training data but fails to generalize to new, unseen data. The stark contrast between near-zero training loss and high training accuracy versus increasing test loss and test accuracy hovering around random chance (50%) highlights the critical importance of meaningful data. This experiment underscores the potential pitfalls of overfitting, especially in scenarios where the data lacks inherent patterns or the labels do not accurately reflect the data's true nature.\n"
   ]
  },
  {
   "cell_type": "markdown",
   "metadata": {
    "id": "6RASjXzaMaxP"
   },
   "source": []
  },
  {
   "cell_type": "markdown",
   "metadata": {
    "id": "ncZO8NN_MaxP"
   },
   "source": [
    "********************"
   ]
  },
  {
   "cell_type": "markdown",
   "metadata": {
    "id": "38vovmatMaxP"
   },
   "source": [
    "<h1> Question 2 - Sentiment Analysis - Classification (70 pt)</h1>"
   ]
  },
  {
   "cell_type": "markdown",
   "metadata": {
    "id": "b9UF4X9qMaxP"
   },
   "source": [
    "### Exercise\n",
    "<p style=\"font-size: 17px\">\n",
    "The goal of this exercise is to get familiar with recurrent neural networks.\n",
    "<br><br>\n",
    "The field of detecting which emotion is represented in a text is developing and being\n",
    "studied due to its usefulness. For example, detecting if a review is positive or\n",
    "negative and more.\n",
    "<br><br>\n",
    "In this exercise, you will detect the emotion of a sentence. You should get at least 47% accuracy on the test set.\n",
    "<br><br>\n",
    "You should\n",
    "<ul style=\"font-size: 17px\">\n",
    "  <li> Try different model architectures - Vanilla RNN and Gated model (GRU/LSTM)</li>\n",
    "  <li> Use different optimization and regularization methods </li>\n",
    "  <li> Try different combinations of hyperparamters</li>\n",
    "</ul>\n",
    "</p>\n",
    "\n",
    "<br>\n",
    "\n",
    "### Data\n",
    "\n",
    "<p style=\"font-size: 17px\">\n",
    "The data is a csv file containing tweets and their labels according to the emotion –\n",
    "{happiness, sadness, neutral}. Every row in the file (except for the header) is an\n",
    "example.\n",
    "<br>\n",
    "Examples: (Notepad++ view)\n",
    "<ul style=\"font-size: 17px\">\n",
    "  <li> happiness,Welcome @doeko ! Really glad to know you here. Your products rox man</li>\n",
    "  <li> sadness,Disappointment really sucks! I'm getting used to it.</li>\n",
    "  <li> neutral,I just want to Sleep.</li>\n",
    "</ul>\n",
    "<p style=\"font-size: 17px\">\n",
    "You have a train file – \"trainEmotions.csv\" and a test file – \"testEmotions.csv\". Both files can be found in the \"HW2_data.zip\" file.\n",
    "</p>"
   ]
  },
  {
   "cell_type": "markdown",
   "metadata": {
    "id": "TFyAj_T6MaxQ"
   },
   "source": [
    "### a) EDA (10 pt)\n",
    "\n",
    "<p style=\"font-size: 17px\">\n",
    "Explore and analyze your data. Explain your data cleaning and processing pipeline.\n",
    "</p>"
   ]
  },
  {
   "cell_type": "markdown",
   "metadata": {
    "id": "n_Zm0paoh_IW"
   },
   "source": [
    "Getting glove embeddings"
   ]
  },
  {
   "cell_type": "markdown",
   "metadata": {
    "id": "rHpfQ7J2h_IW"
   },
   "source": [
    "Necessary folders creation"
   ]
  },
  {
   "cell_type": "code",
   "execution_count": 10,
   "metadata": {
    "colab": {
     "base_uri": "https://localhost:8080/"
    },
    "id": "GycD21LDh_IW",
    "outputId": "e89b9f7b-8c1d-4339-9223-a94aa407fcae"
   },
   "outputs": [
    {
     "name": "stdout",
     "output_type": "stream",
     "text": [
      "Created folder: output_files\n",
      "Created folder: save_data\n",
      "Created folder: save_data/acc\n",
      "Created folder: save_data/loss\n",
      "Created folder: save_data/pkl\n"
     ]
    }
   ],
   "source": [
    "import os\n",
    "\n",
    "# Define the folders\n",
    "folders_to_create = ['output_files', 'save_data', 'save_data/acc', 'save_data/loss', 'save_data/pkl']\n",
    "\n",
    "# Check if each folder exists, and create it if it doesn't\n",
    "for folder in folders_to_create:\n",
    "    if not os.path.exists(folder):\n",
    "        os.makedirs(folder)\n",
    "        print(f\"Created folder: {folder}\")\n",
    "    else:\n",
    "        print(f\"Folder already exists: {folder}\")"
   ]
  },
  {
   "cell_type": "markdown",
   "metadata": {
    "id": "4m_9c9nrh_IX"
   },
   "source": [
    "first view of the data"
   ]
  },
  {
   "cell_type": "code",
   "execution_count": 11,
   "metadata": {
    "colab": {
     "base_uri": "https://localhost:8080/"
    },
    "id": "8wz7zLxwMaxQ",
    "outputId": "d6d90be4-0c0b-48b5-9c45-bdc1cc010c32"
   },
   "outputs": [
    {
     "name": "stdout",
     "output_type": "stream",
     "text": [
      "     emotion                                            content\n",
      "0  happiness  victory for the bulldogs was celebrated by 3 w...\n",
      "1  happiness                     @saraLDS Thanks for that, Sara\n",
      "2  happiness  @Tony_Mandarich well welcome back from the dar...\n",
      "3  happiness            @sai_shediddy lol , you gotta share too\n",
      "4  happiness  first up, make up for lost time with jelly. Ja...\n",
      "\n",
      "emotion\n",
      "happiness    5430\n",
      "neutral      5182\n",
      "sadness      3892\n",
      "Name: count, dtype: int64\n",
      "\n",
      "emotion    0\n",
      "content    0\n",
      "dtype: int64\n"
     ]
    }
   ],
   "source": [
    "import pandas as pd\n",
    "import matplotlib.pyplot as plt\n",
    "import seaborn as sns\n",
    "\n",
    "# Load the datasets\n",
    "train_df = pd.read_csv('trainEmotions.csv')\n",
    "test_df = pd.read_csv('testEmotions.csv')\n",
    "\n",
    "# Inspect the first few rows of the training data\n",
    "print(train_df.head())\n",
    "print()\n",
    "# Check the distribution of labels\n",
    "print(train_df['emotion'].value_counts())\n",
    "print()\n",
    "# Check for missing values\n",
    "print(train_df.isnull().sum())"
   ]
  },
  {
   "cell_type": "markdown",
   "metadata": {
    "id": "BrwNHUirh_IX"
   },
   "source": [
    "finding mean and max tweet lengths"
   ]
  },
  {
   "cell_type": "code",
   "execution_count": 12,
   "metadata": {
    "colab": {
     "base_uri": "https://localhost:8080/"
    },
    "id": "gDHVXyWPh_IY",
    "outputId": "6e240b3a-85b1-4088-cf1e-9c9d5360c953"
   },
   "outputs": [
    {
     "name": "stdout",
     "output_type": "stream",
     "text": [
      "161\n",
      "70.78254274682845\n"
     ]
    }
   ],
   "source": [
    "import numpy as np\n",
    "\n",
    "max_len = np.max(train_df['content'].apply(lambda x: len(x)))\n",
    "mean_len = np.mean(train_df['content'].apply(lambda x: len(x)))\n",
    "print(max_len)\n",
    "print(mean_len)"
   ]
  },
  {
   "cell_type": "markdown",
   "metadata": {
    "id": "OFpoG738h_IY"
   },
   "source": [
    "Cleaning of the tweets"
   ]
  },
  {
   "cell_type": "code",
   "execution_count": 13,
   "metadata": {
    "colab": {
     "base_uri": "https://localhost:8080/"
    },
    "id": "sFoAxHr0h_IY",
    "outputId": "1fc38740-cd0c-4c82-d1cd-123f58b81cb2"
   },
   "outputs": [
    {
     "name": "stderr",
     "output_type": "stream",
     "text": [
      "C:\\Users\\ziv zakalik\\AppData\\Local\\Temp\\ipykernel_30876\\3036848016.py:176: FutureWarning: Setting an item of incompatible dtype is deprecated and will raise an error in a future version of pandas. Value 'victory for the bulldogs was celebrated by <number> white chocolate cheesecakes nom nom nom whatta fatty <elong>' has dtype incompatible with float64, please explicitly cast to a compatible dtype first.\n",
      "  train.iloc[i, 2] = clean_tweet\n",
      "C:\\Users\\ziv zakalik\\AppData\\Local\\Temp\\ipykernel_30876\\3036848016.py:209: FutureWarning: Setting an item of incompatible dtype is deprecated and will raise an error in a future version of pandas. Value '<user> very heart - warming indeed . i ' l <elong> be looking forward to that day' has dtype incompatible with float64, please explicitly cast to a compatible dtype first.\n",
      "  test.iloc[i, 2] = clean_tweet_filter\n"
     ]
    },
    {
     "name": "stdout",
     "output_type": "stream",
     "text": [
      "Embeddings pickle not found. Loading from GloVe. (this may take a few minutes)\n",
      "Embeddings loaded from GloVe and saved to pickle.\n"
     ]
    }
   ],
   "source": [
    "import pandas as pd\n",
    "import numpy as np\n",
    "from collections import Counter\n",
    "import pickle\n",
    "import re\n",
    "import os\n",
    "from gensim import downloader\n",
    "\n",
    "# Constants\n",
    "GLOVE_PATH = \"glove-twitter-100\"\n",
    "PICKLE_PATH = \"glove_embeddings.pkl\"\n",
    "\n",
    "\n",
    "# Load or create embeddings\n",
    "def load_or_create_embeddings(glove_path, pickle_path):\n",
    "    try:\n",
    "        if os.path.exists(pickle_path):\n",
    "            with open(pickle_path, \"rb\") as file:\n",
    "                embeddings = pickle.load(file)\n",
    "            print(\"Embeddings loaded from pickle.\")\n",
    "        else:\n",
    "            print(\n",
    "                \"Embeddings pickle not found. Loading from GloVe. (this may take a few minutes)\"\n",
    "            )\n",
    "            embeddings = downloader.load(glove_path)\n",
    "            with open(pickle_path, \"wb\") as file:\n",
    "                pickle.dump(embeddings, file)\n",
    "            print(\"Embeddings loaded from GloVe and saved to pickle.\")\n",
    "        return embeddings\n",
    "    except Exception as e:\n",
    "        print(\"Error loading embeddings:\", e)\n",
    "        return None\n",
    "\n",
    "\n",
    "def create_weights(target_vocab):\n",
    "    glove = load_or_create_embeddings(GLOVE_PATH, PICKLE_PATH)\n",
    "    matrix_len = len(target_vocab) + 1\n",
    "    weights_matrix = np.zeros((matrix_len, 100))\n",
    "    words_found = 0\n",
    "    for i, word in enumerate(target_vocab):\n",
    "        if type(word) != str:\n",
    "            continue\n",
    "        try:\n",
    "            lower_word = word.lower()\n",
    "            weights_matrix[i + 1] = glove[lower_word] if lower_word in glove.index_to_key else glove[\"<unknown>\"]\n",
    "            words_found += 1\n",
    "        except KeyError:\n",
    "            weights_matrix[i] = np.random.normal(scale=0.6, size=(100,))\n",
    "        except Exception as e:\n",
    "            print(e)\n",
    "    return weights_matrix\n",
    "\n",
    "\n",
    "\n",
    "def tokenize_line(line, vocab_to_int):\n",
    "    return [vocab_to_int[w] for w in line.split()]\n",
    "\n",
    "\n",
    "def pad_features(tweet, seq_length=161):\n",
    "    \"\"\"Return features matrix 2D of tweets_int, where each tweet is padded with 0's or truncated\n",
    "    to the input seq_length.\"\"\"\n",
    "    tweet_len = len(tweet)\n",
    "    if tweet_len <= seq_length:\n",
    "        zeroes = list(np.zeros(seq_length - tweet_len))\n",
    "        new = zeroes + tweet  ## zeroes in the begining\n",
    "    else:\n",
    "        new = tweet[0:seq_length]\n",
    "    return np.array(new)\n",
    "\n",
    "\n",
    "def create_vocabulary(all_text):\n",
    "    all_text2 = \" \".join(all_text)\n",
    "    # create a list of words\n",
    "    words = all_text2.split()\n",
    "    # Count all the words using Counter Method\n",
    "    count_words = Counter(words)\n",
    "    total_words = len(words)\n",
    "    sorted_words = count_words.most_common(total_words)\n",
    "\n",
    "    ##  later on we are going to do padding for shorter reviews and conventional choice for padding is 0.\n",
    "    # So we need to start this indexing from 1\n",
    "    vocab_to_int = {w: i + 1 for i, (w, c) in enumerate(sorted_words)}\n",
    "    int_to_vocab = {str(value): key for key, value in vocab_to_int.items()}\n",
    "    return vocab_to_int, int_to_vocab\n",
    "\n",
    "\n",
    "def sub(pattern, output, string, whole_word=False):\n",
    "    token = output\n",
    "    if whole_word:\n",
    "        pattern = r\"(\\s|^)\" + pattern + r\"(\\s|$)\"\n",
    "\n",
    "    if isinstance(output, str):\n",
    "        token = \" \" + output + \" \"\n",
    "    else:\n",
    "        token = lambda match: \" \" + output(match) + \" \"\n",
    "    return re.sub(pattern, token, string)\n",
    "\n",
    "\n",
    "def hashtag(token):\n",
    "    token = token.group(\"tag\")\n",
    "    if token != token.upper():\n",
    "        token = \" \".join(re.findall(\"[a-zA-Z][^A-Z]*\", token))\n",
    "    return \"<hashtag> \" + token + \" <endhashtag>\"\n",
    "\n",
    "\n",
    "def punc_repeat(token):\n",
    "    return token.group(0)[0] + \" <repeat>\"\n",
    "\n",
    "\n",
    "def punc_separate(token):\n",
    "    return token.group()\n",
    "\n",
    "\n",
    "def number(token):\n",
    "    return \" <number>\"\n",
    "\n",
    "\n",
    "def word_end_repeat(token):\n",
    "    return token.group(1) + token.group(2) + \" <elong>\"\n",
    "\n",
    "\n",
    "def preprocess_glove_line(tweet):\n",
    "    eyes = r\"[8:=;]\"\n",
    "    nose = r\"['`\\-\\^]?\"\n",
    "    sad_front = r\"[(\\[/\\\\]+\"\n",
    "    sad_back = r\"[)\\]/\\\\]+\"\n",
    "    smile_front = r\"[)\\]]+\"\n",
    "    smile_back = r\"[(\\[]+\"\n",
    "    lol_front = r\"[DbpP]+\"\n",
    "    lol_back = r\"[d]+\"\n",
    "    neutral = r\"[|]+\"\n",
    "    sadface = eyes + nose + sad_front + \"|\" + sad_back + nose + eyes\n",
    "    smile = eyes + nose + smile_front + \"|\" + smile_back + nose + eyes\n",
    "    lolface = eyes + nose + lol_front + \"|\" + lol_back + nose + eyes\n",
    "    neutralface = eyes + nose + neutral + \"|\" + neutral + nose + eyes\n",
    "    punctuation = r\"\"\"[ '!\"#$%&'()+,/:;=?@_`{|}~\\*\\-\\.\\^\\\\\\[\\]]+\"\"\"  ## < and > omitted to avoid messing up tokens\n",
    "\n",
    "    tweet = sub(r\"[\\s]+\", \"  \", tweet)  # ensure 2 spaces between everything\n",
    "    tweet = sub(r\"(?:(?:https?|ftp)://|www\\.)[^\\s]+\", \"<url>\", tweet, True)\n",
    "    tweet = sub(r\"@\\w+\", \"<user>\", tweet, True)\n",
    "    tweet = sub(r\"#(?P<tag>\\w+)\", hashtag, tweet, True)\n",
    "    tweet = sub(sadface, \"<sadface>\", tweet, True)\n",
    "    tweet = sub(smile, \"<smile>\", tweet, True)\n",
    "    tweet = sub(lolface, \"<lolface>\", tweet, True)\n",
    "    tweet = sub(neutralface, \"<neutralface>\", tweet, True)\n",
    "    tweet = sub(r\"(?:<3+)+\", \"<heart>\", tweet, True)\n",
    "    tweet = tweet.lower()\n",
    "    tweet = sub(r\"[-+]?[.\\d]*[\\d]+[:,.\\d]*\", number, tweet, True)\n",
    "    tweet = sub(punctuation, punc_separate, tweet)\n",
    "    tweet = sub(r\"([!?.])\\1+\", punc_repeat, tweet)\n",
    "    tweet = sub(r\"(\\S*?)(\\w)\\2+\\b\", word_end_repeat, tweet)\n",
    "    tweet = tweet.split()\n",
    "    return \" \".join(tweet)\n",
    "\n",
    "\n",
    "def encoder(label):\n",
    "    if label == \"happiness\":\n",
    "        return 0\n",
    "    elif label == \"neutral\":\n",
    "        return 1\n",
    "    return 2\n",
    "\n",
    "\n",
    "def preprocess_labels(labels):\n",
    "    data_labels = labels.apply(lambda x: encoder(x))\n",
    "    return np.array(data_labels)\n",
    "\n",
    "\n",
    "def run_preprocessing():\n",
    "    train = pd.read_csv(\"trainEmotions.csv\")\n",
    "    test = pd.read_csv(\"testEmotions.csv\")\n",
    "\n",
    "    train[\"clean_tweet\"] = np.zeros(train.shape[0])\n",
    "    for i, tweet in enumerate(train.content.values):\n",
    "        clean_tweet = preprocess_glove_line(tweet)\n",
    "        train.iloc[i, 2] = clean_tweet\n",
    "\n",
    "    train.to_csv(\"output_files/train_glove\")\n",
    "    ## create vocabulary from train\n",
    "    vocab_to_int, int_to_vocab = create_vocabulary(all_text=train[\"clean_tweet\"].values)\n",
    "    pd.DataFrame.from_dict(vocab_to_int, orient=\"index\").to_csv(\n",
    "        \"output_files/vocab_to_int.csv\", index=True, header=True\n",
    "    )\n",
    "\n",
    "    vocab_words = vocab_to_int.keys()\n",
    "    max_tweet = train.loc[\n",
    "        train[[\"clean_tweet\"]].apply(lambda x: x.str.len(), axis=1).idxmax()\n",
    "    ]\n",
    "    max_tweet_len = max_tweet[\"clean_tweet\"].str.len().values[0]\n",
    "    ##apply final preprcoesing on train\n",
    "    final_train = []\n",
    "    for i, clean_tweet in enumerate(train.clean_tweet.values):\n",
    "        token_tweet = tokenize_line(clean_tweet, vocab_to_int)\n",
    "        final_tweet = pad_features(token_tweet, seq_length=max_tweet_len)\n",
    "        final_train.append(final_tweet)\n",
    "\n",
    "    final = np.array(final_train)\n",
    "    np.save(\"output_files/train_data\", final)\n",
    "    train_labels = preprocess_labels(train.emotion)\n",
    "    np.save(\"output_files/train_labels\", train_labels)\n",
    "\n",
    "    ## apply preprocessing on test\n",
    "    test[\"clean_tweet\"] = np.zeros(test.shape[0])\n",
    "    final_test = []\n",
    "    for i, tweet in enumerate(test.content.values):\n",
    "        clean_tweet = preprocess_glove_line(tweet)\n",
    "        clean_tweet_filter = [c for c in clean_tweet.split() if c in vocab_words]\n",
    "        clean_tweet_filter = \" \".join(clean_tweet_filter)\n",
    "        test.iloc[i, 2] = clean_tweet_filter\n",
    "        token_tweet = tokenize_line(clean_tweet_filter, vocab_to_int)\n",
    "        final_tweet = pad_features(token_tweet, seq_length=max_tweet_len)\n",
    "        final_test.append(final_tweet)\n",
    "\n",
    "    final = np.array(final_test)\n",
    "    np.save(\"output_files/test_data\", final)\n",
    "    test.to_csv(\"output_files/test_glove\")\n",
    "    test_labels = preprocess_labels(test.emotion)\n",
    "    np.save(\"output_files/test_labels\", test_labels)\n",
    "    return train, test\n",
    "\n",
    "\n",
    "# preprocess_glove_embs()\n",
    "train_df, test_df = run_preprocessing()\n",
    "vocab = pd.read_csv(\"output_files/vocab_to_int.csv\")\n",
    "# glove = pd.read_csv(\"glove.csv\", header=None)\n",
    "target_vocab = vocab.iloc[:, 0].values\n",
    "weights_matrix = create_weights(target_vocab)\n",
    "np.save(\"output_files/weight_mat.npy\", weights_matrix)\n"
   ]
  },
  {
   "cell_type": "markdown",
   "metadata": {
    "id": "eu1TO8oWh_IY"
   },
   "source": [
    "### Some statistics to better undertand the data"
   ]
  },
  {
   "cell_type": "markdown",
   "metadata": {
    "id": "ULpIR7nIh_IY"
   },
   "source": [
    "We can see that our labels are fairly balanced. This is very important and makes our job easier."
   ]
  },
  {
   "cell_type": "code",
   "execution_count": 14,
   "metadata": {
    "colab": {
     "base_uri": "https://localhost:8080/",
     "height": 472
    },
    "id": "1-r5iOIvlN_Z",
    "outputId": "ab046644-a0b8-4fc8-cad3-7380831327b5"
   },
   "outputs": [
    {
     "data": {
      "image/png": "[encoded data removed]",
      "text/plain": [
       "<Figure size 640x480 with 1 Axes>"
      ]
     },
     "metadata": {},
     "output_type": "display_data"
    }
   ],
   "source": [
    "sns.countplot(x='emotion', data=train_df)\n",
    "plt.title('Distribution of Emotions in Training Data')\n",
    "plt.show()"
   ]
  },
  {
   "cell_type": "markdown",
   "metadata": {
    "id": "HhAAzKOGMaxQ"
   },
   "source": [
    "*****************************"
   ]
  },
  {
   "cell_type": "markdown",
   "metadata": {
    "id": "LADSztMKh_IZ"
   },
   "source": [
    "Tweet lengths vary, but not by much. We will need to keep an eye on that while working on our models."
   ]
  },
  {
   "cell_type": "code",
   "execution_count": 15,
   "metadata": {
    "colab": {
     "base_uri": "https://localhost:8080/",
     "height": 564
    },
    "id": "GHy8CCZblQBW",
    "outputId": "60ca950e-47fc-464b-911f-289fe0027fbf"
   },
   "outputs": [
    {
     "data": {
      "image/png": "[encoded data removed]",
      "text/plain": [
       "<Figure size 1000x600 with 1 Axes>"
      ]
     },
     "metadata": {},
     "output_type": "display_data"
    }
   ],
   "source": [
    "train_df['tweet_length'] = train_df['content'].apply(lambda x: len(x.split()))\n",
    "plt.figure(figsize=(10, 6))\n",
    "sns.boxplot(x='emotion', y='tweet_length', data=train_df)\n",
    "plt.title('Tweet Length Distribution by Emotion')\n",
    "plt.show()\n"
   ]
  },
  {
   "cell_type": "code",
   "execution_count": 16,
   "metadata": {
    "colab": {
     "base_uri": "https://localhost:8080/",
     "height": 743
    },
    "id": "7W2rF-VOlsbR",
    "outputId": "aa01c325-7177-47c8-c41d-332011a7d8ad"
   },
   "outputs": [
    {
     "data": {
      "image/png": "[encoded data removed]",
      "text/plain": [
       "<Figure size 1000x800 with 1 Axes>"
      ]
     },
     "metadata": {},
     "output_type": "display_data"
    }
   ],
   "source": [
    "from collections import Counter\n",
    "\n",
    "def plot_most_common_words(text, n_most_common=20):\n",
    "    words = ' '.join(text).split()\n",
    "    counter = Counter(words)\n",
    "    most_common = counter.most_common(n_most_common)\n",
    "    words, counts = zip(*most_common)\n",
    "\n",
    "    plt.figure(figsize=(10, 8))\n",
    "    sns.barplot(y=list(counts), x=list(words))\n",
    "    plt.title('Most Common Words')\n",
    "    plt.xticks(rotation=45)\n",
    "    plt.show()\n",
    "\n",
    "# Example for happiness tweets\n",
    "happy_texts = train_df[train_df['emotion'] == 'happiness']['clean_tweet']\n",
    "plot_most_common_words(happy_texts)\n"
   ]
  },
  {
   "cell_type": "markdown",
   "metadata": {
    "id": "2EF-JUCHMaxQ"
   },
   "source": [
    "### b) Main (50 pt)\n",
    "\n",
    "<p style=\"font-size: 17px\">\n",
    "Define 2 models, as requested. Train and eval them.\n",
    "<ul style=\"font-size: 17px\">\n",
    "<li> Plot the gated model's accuracy and loss (both on train and test sets) as a function of the epochs.\n",
    "<li> Plot a confusion matrix\n",
    "</ul>\n",
    "\n",
    "</p>"
   ]
  },
  {
   "cell_type": "markdown",
   "metadata": {
    "id": "I8DdWxViqmVo"
   },
   "source": [
    "# Pre-processing the data"
   ]
  },
  {
   "cell_type": "markdown",
   "metadata": {
    "id": "SF5M9CFovay5"
   },
   "source": [
    "# Defining both models"
   ]
  },
  {
   "cell_type": "markdown",
   "metadata": {
    "id": "dBEvbvRcytsw"
   },
   "source": [
    "# Training"
   ]
  },
  {
   "cell_type": "markdown",
   "metadata": {
    "id": "DSSaMq4yh_IZ"
   },
   "source": [
    "Defining our models"
   ]
  },
  {
   "cell_type": "code",
   "execution_count": 17,
   "metadata": {
    "id": "NWlp8F17h_Ia"
   },
   "outputs": [],
   "source": [
    "import torch\n",
    "import torch.nn as nn\n",
    "from torch.autograd import Variable\n",
    "\n",
    "def create_embedding_layer(weights_matrix):\n",
    "    num_embeddings, embedding_dim = weights_matrix.size()\n",
    "    emb_layer = nn.Embedding(num_embeddings, embedding_dim)\n",
    "    emb_layer.load_state_dict({\"weight\": weights_matrix})\n",
    "    return emb_layer, num_embeddings, embedding_dim\n",
    "\n",
    "\n",
    "class SentimentLSTM(nn.Module):\n",
    "    def __init__(\n",
    "        self, weights_matrix, output_size, hidden_dim, n_layers, drop_prob=0.5\n",
    "    ):\n",
    "        super(SentimentLSTM, self).__init__()\n",
    "        self.output_size = output_size\n",
    "        self.hidden_dim = hidden_dim\n",
    "        self.n_layers = n_layers\n",
    "        self.embedding, num_embeddings, embedding_dim = create_embedding_layer(\n",
    "            weights_matrix\n",
    "        )\n",
    "        self.lstm = nn.LSTM(\n",
    "            embedding_dim,\n",
    "            hidden_dim,\n",
    "            n_layers,\n",
    "            dropout=drop_prob,\n",
    "            batch_first=True,\n",
    "            bidirectional=True,\n",
    "        )\n",
    "        self.dropout = nn.Dropout(drop_prob)\n",
    "        self.fc = nn.Linear(hidden_dim * 2, output_size)\n",
    "        self.log_softmax = nn.LogSoftmax(dim=1)\n",
    "\n",
    "    def forward(self, x):\n",
    "        batch_size = x.size(0)\n",
    "        hidden = self.init_hidden(batch_size)\n",
    "        embeds = self.embedding(x)\n",
    "        lstm_out, hidden = self.lstm(embeds, hidden)\n",
    "        lstm_out = lstm_out[:, -1]\n",
    "        out = self.dropout(lstm_out)\n",
    "        out = self.fc(out)\n",
    "        return self.log_softmax(out), hidden\n",
    "\n",
    "    def init_hidden(self, batch_size):\n",
    "        weight = next(self.parameters()).data\n",
    "        hidden_state = weight.new_zeros(self.n_layers * 2, batch_size, self.hidden_dim)\n",
    "        return (\n",
    "            (hidden_state, hidden_state)\n",
    "            if torch.cuda.is_available()\n",
    "            else (hidden_state.cpu(), hidden_state.cpu())\n",
    "        )\n",
    "\n",
    "\n",
    "class SentimentRNN(nn.Module):\n",
    "    def __init__(\n",
    "        self, weights_matrix, output_size, hidden_dim, n_layers, drop_prob=0.5\n",
    "    ):\n",
    "        super(SentimentRNN, self).__init__()\n",
    "        self.output_size = output_size\n",
    "        self.hidden_dim = hidden_dim\n",
    "        self.n_layers = n_layers\n",
    "        self.embedding, num_embeddings, embedding_dim = create_embedding_layer(\n",
    "            weights_matrix\n",
    "        )\n",
    "        self.rnn = nn.RNN(embedding_dim, hidden_dim, n_layers, batch_first=True, nonlinearity='relu')\n",
    "        self.fc = nn.Linear(hidden_dim, output_size)\n",
    "        self.dropout = nn.Dropout(drop_prob)\n",
    "        self.log_softmax = nn.LogSoftmax(dim=1)\n",
    "\n",
    "\n",
    "    def forward(self, x):\n",
    "        embeds = self.embedding(x)\n",
    "        h0 = self.init_hidden(x.size(0))\n",
    "        rnn_out, hn = self.rnn(embeds)\n",
    "        rnn_out = rnn_out[:, -1, :]\n",
    "        out = self.dropout(rnn_out)\n",
    "        out = self.fc(rnn_out)\n",
    "        return self.log_softmax(out), h0\n",
    "\n",
    "    def init_hidden(self, batch_size):\n",
    "        weight = next(self.parameters()).data\n",
    "        hidden_state = weight.new_zeros(self.n_layers, batch_size, self.hidden_dim)\n",
    "        return (\n",
    "            (hidden_state, hidden_state)\n",
    "            if torch.cuda.is_available()\n",
    "            else (hidden_state.cpu(), hidden_state.cpu())\n",
    "        )\n",
    "\n",
    "\n"
   ]
  },
  {
   "cell_type": "markdown",
   "metadata": {
    "id": "5eT4Vr0ch_Ia"
   },
   "source": [
    "Main code - training, evaluating"
   ]
  },
  {
   "cell_type": "markdown",
   "metadata": {
    "id": "bJtnfshwh_Ia"
   },
   "source": [
    "main.py"
   ]
  },
  {
   "cell_type": "code",
   "execution_count": 18,
   "metadata": {
    "colab": {
     "base_uri": "https://localhost:8080/"
    },
    "id": "r2fiDOs8h_Ia",
    "outputId": "40f6727a-73ec-4033-ad66-6abcb27bc3b9"
   },
   "outputs": [
    {
     "name": "stdout",
     "output_type": "stream",
     "text": [
      "Starting parameters:\n",
      "model=SentimentRNN_lr=0.005_b=32_t=30_n_layers=1_n_hid=32_p=0.3\n",
      "Epoch 0/29\n",
      "----------\n",
      "train Loss: 0.9162 Accuracy: 0.5705 \n",
      "test Loss: 1.1276 Accuracy: 0.4785 \n",
      "Epoch 1/29\n",
      "----------\n",
      "train Loss: 0.7079 Accuracy: 0.7077 \n",
      "test Loss: 1.3036 Accuracy: 0.5091 \n",
      "Epoch 2/29\n",
      "----------\n",
      "train Loss: 0.5464 Accuracy: 0.7879 \n",
      "test Loss: 1.1645 Accuracy: 0.5203 \n",
      "Epoch 3/29\n",
      "----------\n",
      "train Loss: 0.4168 Accuracy: 0.8386 \n",
      "test Loss: 1.5809 Accuracy: 0.4911 \n",
      "Epoch 4/29\n",
      "----------\n",
      "train Loss: 0.3357 Accuracy: 0.8716 \n",
      "test Loss: 1.7137 Accuracy: 0.4849 \n",
      "Epoch 5/29\n",
      "----------\n",
      "train Loss: 0.2738 Accuracy: 0.8937 \n",
      "test Loss: 1.8105 Accuracy: 0.4870 \n",
      "Epoch 6/29\n",
      "----------\n",
      "train Loss: 0.2481 Accuracy: 0.9047 \n",
      "test Loss: 2.1708 Accuracy: 0.4714 \n",
      "Trigger Times: 1\n",
      "Epoch 7/29\n",
      "----------\n",
      "train Loss: 0.1749 Accuracy: 0.9321 \n",
      "test Loss: 2.4297 Accuracy: 0.4704 \n",
      "Trigger Times: 2\n",
      "Epoch 8/29\n",
      "----------\n",
      "train Loss: 0.1550 Accuracy: 0.9407 \n",
      "test Loss: 2.5179 Accuracy: 0.4756 \n",
      "Trigger Times: 3\n",
      "Epoch 9/29\n",
      "----------\n",
      "train Loss: 0.1441 Accuracy: 0.9446 \n",
      "test Loss: 2.6328 Accuracy: 0.4685 \n",
      "Trigger Times: 4\n",
      "Epoch 10/29\n",
      "----------\n",
      "train Loss: 0.1349 Accuracy: 0.9483 \n",
      "test Loss: 2.6781 Accuracy: 0.4758 \n",
      "Trigger Times: 5\n",
      "Epoch 11/29\n",
      "----------\n",
      "train Loss: 0.1269 Accuracy: 0.9507 \n",
      "test Loss: 3.0647 Accuracy: 0.4719 \n",
      "Trigger Times: 6\n",
      "Early stopping!\n",
      "Starting parameters:\n",
      "model=SentimentRNN_lr=0.005_b=32_t=30_n_layers=3_n_hid=32_p=0.3\n",
      "Epoch 0/29\n",
      "----------\n",
      "train Loss: 0.9254 Accuracy: 0.5582 \n",
      "test Loss: 1.1539 Accuracy: 0.4781 \n",
      "Epoch 1/29\n",
      "----------\n",
      "train Loss: 0.7273 Accuracy: 0.6955 \n",
      "test Loss: 1.1556 Accuracy: 0.5226 \n",
      "Epoch 2/29\n",
      "----------\n",
      "train Loss: 0.5720 Accuracy: 0.7697 \n",
      "test Loss: 1.3469 Accuracy: 0.5039 \n",
      "Epoch 3/29\n",
      "----------\n",
      "train Loss: 0.4497 Accuracy: 0.8237 \n",
      "test Loss: 1.4839 Accuracy: 0.5199 \n",
      "Epoch 4/29\n",
      "----------\n",
      "train Loss: 0.3751 Accuracy: 0.8540 \n",
      "test Loss: 1.9593 Accuracy: 0.4793 \n",
      "Epoch 5/29\n",
      "----------\n",
      "train Loss: 0.3240 Accuracy: 0.8744 \n",
      "test Loss: 1.7856 Accuracy: 0.4613 \n",
      "Epoch 6/29\n",
      "----------\n",
      "train Loss: 0.3028 Accuracy: 0.8831 \n",
      "test Loss: 2.1441 Accuracy: 0.4979 \n",
      "Trigger Times: 1\n",
      "Epoch 7/29\n",
      "----------\n",
      "train Loss: 0.2241 Accuracy: 0.9105 \n",
      "test Loss: 2.5010 Accuracy: 0.4766 \n",
      "Trigger Times: 2\n",
      "Epoch 8/29\n",
      "----------\n",
      "train Loss: 0.1997 Accuracy: 0.9179 \n",
      "test Loss: 2.4289 Accuracy: 0.4859 \n",
      "Trigger Times: 3\n",
      "Epoch 9/29\n",
      "----------\n",
      "train Loss: 0.1863 Accuracy: 0.9229 \n",
      "test Loss: 2.6711 Accuracy: 0.4874 \n",
      "Trigger Times: 4\n",
      "Epoch 10/29\n",
      "----------\n",
      "train Loss: 0.1763 Accuracy: 0.9266 \n",
      "test Loss: 2.7574 Accuracy: 0.4863 \n",
      "Trigger Times: 5\n",
      "Epoch 11/29\n",
      "----------\n",
      "train Loss: 0.1655 Accuracy: 0.9318 \n",
      "test Loss: 3.2119 Accuracy: 0.4764 \n",
      "Trigger Times: 6\n",
      "Early stopping!\n",
      "Starting parameters:\n",
      "model=SentimentRNN_lr=0.005_b=32_t=30_n_layers=1_n_hid=32_p=0.5\n",
      "Epoch 0/29\n",
      "----------\n",
      "train Loss: 0.9133 Accuracy: 0.5716 \n",
      "test Loss: 1.1297 Accuracy: 0.4801 \n",
      "Epoch 1/29\n",
      "----------\n",
      "train Loss: 0.7021 Accuracy: 0.7100 \n",
      "test Loss: 1.1626 Accuracy: 0.4698 \n",
      "Epoch 2/29\n",
      "----------\n",
      "train Loss: 0.5364 Accuracy: 0.7890 \n",
      "test Loss: 1.3826 Accuracy: 0.4741 \n",
      "Epoch 3/29\n",
      "----------\n",
      "train Loss: 0.4236 Accuracy: 0.8375 \n",
      "test Loss: 1.5642 Accuracy: 0.4526 \n",
      "Epoch 4/29\n",
      "----------\n",
      "train Loss: 0.3356 Accuracy: 0.8687 \n",
      "test Loss: 1.9188 Accuracy: 0.4661 \n",
      "Epoch 5/29\n",
      "----------\n",
      "train Loss: 0.2794 Accuracy: 0.8943 \n",
      "test Loss: 2.0218 Accuracy: 0.4582 \n",
      "Epoch 6/29\n",
      "----------\n",
      "train Loss: 0.2494 Accuracy: 0.9023 \n",
      "test Loss: 2.3766 Accuracy: 0.4673 \n",
      "Trigger Times: 1\n",
      "Epoch 7/29\n",
      "----------\n",
      "train Loss: 0.1813 Accuracy: 0.9299 \n",
      "test Loss: 2.5244 Accuracy: 0.4712 \n",
      "Trigger Times: 2\n",
      "Epoch 8/29\n",
      "----------\n",
      "train Loss: 0.1586 Accuracy: 0.9394 \n",
      "test Loss: 2.6227 Accuracy: 0.4677 \n",
      "Trigger Times: 3\n",
      "Epoch 9/29\n",
      "----------\n",
      "train Loss: 0.1455 Accuracy: 0.9423 \n",
      "test Loss: 2.7934 Accuracy: 0.4731 \n",
      "Trigger Times: 4\n",
      "Epoch 10/29\n",
      "----------\n",
      "train Loss: 0.1366 Accuracy: 0.9461 \n",
      "test Loss: 3.0335 Accuracy: 0.4669 \n",
      "Trigger Times: 5\n",
      "Epoch 11/29\n",
      "----------\n",
      "train Loss: 0.1294 Accuracy: 0.9498 \n",
      "test Loss: 3.0173 Accuracy: 0.4756 \n",
      "Trigger Times: 6\n",
      "Early stopping!\n",
      "Starting parameters:\n",
      "model=SentimentRNN_lr=0.005_b=32_t=30_n_layers=3_n_hid=32_p=0.5\n",
      "Epoch 0/29\n",
      "----------\n",
      "train Loss: 0.9087 Accuracy: 0.5711 \n",
      "test Loss: 1.0271 Accuracy: 0.5050 \n",
      "Epoch 1/29\n",
      "----------\n",
      "train Loss: 0.7271 Accuracy: 0.6944 \n",
      "test Loss: 1.2672 Accuracy: 0.4897 \n",
      "Epoch 2/29\n",
      "----------\n",
      "train Loss: 0.5803 Accuracy: 0.7690 \n",
      "test Loss: 1.9528 Accuracy: 0.4514 \n",
      "Epoch 3/29\n",
      "----------\n",
      "train Loss: 0.4600 Accuracy: 0.8208 \n",
      "test Loss: 1.7938 Accuracy: 0.4986 \n",
      "Epoch 4/29\n",
      "----------\n",
      "train Loss: 0.3668 Accuracy: 0.8586 \n",
      "test Loss: 1.4978 Accuracy: 0.5101 \n",
      "Epoch 5/29\n",
      "----------\n",
      "train Loss: 0.3268 Accuracy: 0.8744 \n",
      "test Loss: 2.0482 Accuracy: 0.4907 \n",
      "Epoch 6/29\n",
      "----------\n",
      "train Loss: 0.2928 Accuracy: 0.8875 \n",
      "test Loss: 2.1602 Accuracy: 0.4805 \n",
      "Trigger Times: 1\n",
      "Epoch 7/29\n",
      "----------\n",
      "train Loss: 0.2222 Accuracy: 0.9145 \n",
      "test Loss: 2.3865 Accuracy: 0.4760 \n",
      "Trigger Times: 2\n",
      "Epoch 8/29\n",
      "----------\n",
      "train Loss: 0.2023 Accuracy: 0.9225 \n",
      "test Loss: 2.6423 Accuracy: 0.4795 \n",
      "Trigger Times: 3\n",
      "Epoch 9/29\n",
      "----------\n",
      "train Loss: 0.1903 Accuracy: 0.9265 \n",
      "test Loss: 2.8169 Accuracy: 0.4781 \n",
      "Trigger Times: 4\n",
      "Epoch 10/29\n",
      "----------\n",
      "train Loss: 0.1799 Accuracy: 0.9314 \n",
      "test Loss: 3.0539 Accuracy: 0.4758 \n",
      "Trigger Times: 5\n",
      "Epoch 11/29\n",
      "----------\n",
      "train Loss: 0.1707 Accuracy: 0.9338 \n",
      "test Loss: 3.3610 Accuracy: 0.4762 \n",
      "Trigger Times: 6\n",
      "Early stopping!\n",
      "Starting parameters:\n",
      "model=SentimentLSTM_lr=0.005_b=32_t=30_n_layers=1_n_hid=32_p=0.3\n",
      "Epoch 0/29\n",
      "----------\n"
     ]
    },
    {
     "name": "stderr",
     "output_type": "stream",
     "text": [
      "d:\\anaconda\\envs\\ml2hw2\\Lib\\site-packages\\torch\\nn\\modules\\rnn.py:83: UserWarning: dropout option adds dropout after all but last recurrent layer, so non-zero dropout expects num_layers greater than 1, but got dropout=0.3 and num_layers=1\n",
      "  warnings.warn(\"dropout option adds dropout after all but last \"\n"
     ]
    },
    {
     "name": "stdout",
     "output_type": "stream",
     "text": [
      "train Loss: 0.8244 Accuracy: 0.6357 \n",
      "test Loss: 0.9676 Accuracy: 0.5664 \n",
      "Epoch 1/29\n",
      "----------\n",
      "train Loss: 0.5956 Accuracy: 0.7592 \n",
      "test Loss: 1.2466 Accuracy: 0.5017 \n",
      "Epoch 2/29\n",
      "----------\n",
      "train Loss: 0.3819 Accuracy: 0.8565 \n",
      "test Loss: 1.5931 Accuracy: 0.4990 \n",
      "Epoch 3/29\n",
      "----------\n",
      "train Loss: 0.2505 Accuracy: 0.9049 \n",
      "test Loss: 1.7756 Accuracy: 0.5081 \n",
      "Epoch 4/29\n",
      "----------\n",
      "train Loss: 0.1873 Accuracy: 0.9305 \n",
      "test Loss: 2.0521 Accuracy: 0.5064 \n",
      "Epoch 5/29\n",
      "----------\n",
      "train Loss: 0.1537 Accuracy: 0.9418 \n",
      "test Loss: 2.3492 Accuracy: 0.4696 \n",
      "Epoch 6/29\n",
      "----------\n",
      "train Loss: 0.1219 Accuracy: 0.9512 \n",
      "test Loss: 2.9665 Accuracy: 0.4779 \n",
      "Trigger Times: 1\n",
      "Epoch 7/29\n",
      "----------\n",
      "train Loss: 0.0880 Accuracy: 0.9657 \n",
      "test Loss: 3.0411 Accuracy: 0.4795 \n",
      "Trigger Times: 2\n",
      "Epoch 8/29\n",
      "----------\n",
      "train Loss: 0.0754 Accuracy: 0.9710 \n",
      "test Loss: 3.1495 Accuracy: 0.4808 \n",
      "Trigger Times: 3\n",
      "Epoch 9/29\n",
      "----------\n",
      "train Loss: 0.0680 Accuracy: 0.9730 \n",
      "test Loss: 3.3714 Accuracy: 0.4770 \n",
      "Trigger Times: 4\n",
      "Epoch 10/29\n",
      "----------\n",
      "train Loss: 0.0641 Accuracy: 0.9769 \n",
      "test Loss: 3.4720 Accuracy: 0.4824 \n",
      "Trigger Times: 5\n",
      "Epoch 11/29\n",
      "----------\n",
      "train Loss: 0.0588 Accuracy: 0.9768 \n",
      "test Loss: 3.6120 Accuracy: 0.4799 \n",
      "Trigger Times: 6\n",
      "Early stopping!\n",
      "Starting parameters:\n",
      "model=SentimentLSTM_lr=0.005_b=32_t=30_n_layers=3_n_hid=32_p=0.3\n",
      "Epoch 0/29\n",
      "----------\n",
      "train Loss: 0.8392 Accuracy: 0.6232 \n",
      "test Loss: 1.0887 Accuracy: 0.5540 \n",
      "Epoch 1/29\n",
      "----------\n",
      "train Loss: 0.6181 Accuracy: 0.7520 \n",
      "test Loss: 1.2118 Accuracy: 0.5312 \n",
      "Epoch 2/29\n",
      "----------\n",
      "train Loss: 0.4118 Accuracy: 0.8424 \n",
      "test Loss: 1.3411 Accuracy: 0.5257 \n",
      "Epoch 3/29\n",
      "----------\n",
      "train Loss: 0.2766 Accuracy: 0.8974 \n",
      "test Loss: 1.6338 Accuracy: 0.5099 \n",
      "Epoch 4/29\n",
      "----------\n",
      "train Loss: 0.2035 Accuracy: 0.9243 \n",
      "test Loss: 2.2964 Accuracy: 0.5029 \n",
      "Epoch 5/29\n",
      "----------\n",
      "train Loss: 0.1694 Accuracy: 0.9360 \n",
      "test Loss: 2.4758 Accuracy: 0.4567 \n",
      "Epoch 6/29\n",
      "----------\n",
      "train Loss: 0.1402 Accuracy: 0.9450 \n",
      "test Loss: 2.4902 Accuracy: 0.4814 \n",
      "Trigger Times: 1\n",
      "Epoch 7/29\n",
      "----------\n",
      "train Loss: 0.0918 Accuracy: 0.9623 \n",
      "test Loss: 2.9712 Accuracy: 0.4808 \n",
      "Trigger Times: 2\n",
      "Epoch 8/29\n",
      "----------\n",
      "train Loss: 0.0777 Accuracy: 0.9668 \n",
      "test Loss: 3.2740 Accuracy: 0.4820 \n",
      "Trigger Times: 3\n",
      "Epoch 9/29\n",
      "----------\n",
      "train Loss: 0.0708 Accuracy: 0.9690 \n",
      "test Loss: 3.5668 Accuracy: 0.4737 \n",
      "Trigger Times: 4\n",
      "Epoch 10/29\n",
      "----------\n",
      "train Loss: 0.0634 Accuracy: 0.9725 \n",
      "test Loss: 3.7556 Accuracy: 0.4758 \n",
      "Trigger Times: 5\n",
      "Epoch 11/29\n",
      "----------\n",
      "train Loss: 0.0615 Accuracy: 0.9725 \n",
      "test Loss: 4.0102 Accuracy: 0.4739 \n",
      "Trigger Times: 6\n",
      "Early stopping!\n",
      "Starting parameters:\n",
      "model=SentimentLSTM_lr=0.005_b=32_t=30_n_layers=1_n_hid=32_p=0.5\n",
      "Epoch 0/29\n",
      "----------\n"
     ]
    },
    {
     "name": "stderr",
     "output_type": "stream",
     "text": [
      "d:\\anaconda\\envs\\ml2hw2\\Lib\\site-packages\\torch\\nn\\modules\\rnn.py:83: UserWarning: dropout option adds dropout after all but last recurrent layer, so non-zero dropout expects num_layers greater than 1, but got dropout=0.5 and num_layers=1\n",
      "  warnings.warn(\"dropout option adds dropout after all but last \"\n"
     ]
    },
    {
     "name": "stdout",
     "output_type": "stream",
     "text": [
      "train Loss: 0.8572 Accuracy: 0.6140 \n",
      "test Loss: 1.1174 Accuracy: 0.5120 \n",
      "Epoch 1/29\n",
      "----------\n",
      "train Loss: 0.6268 Accuracy: 0.7497 \n",
      "test Loss: 1.1536 Accuracy: 0.5321 \n",
      "Epoch 2/29\n",
      "----------\n",
      "train Loss: 0.4284 Accuracy: 0.8383 \n",
      "test Loss: 1.3139 Accuracy: 0.5207 \n",
      "Epoch 3/29\n",
      "----------\n",
      "train Loss: 0.2860 Accuracy: 0.8933 \n",
      "test Loss: 1.5830 Accuracy: 0.5238 \n",
      "Epoch 4/29\n",
      "----------\n",
      "train Loss: 0.2218 Accuracy: 0.9193 \n",
      "test Loss: 2.1153 Accuracy: 0.4789 \n",
      "Epoch 5/29\n",
      "----------\n",
      "train Loss: 0.1741 Accuracy: 0.9341 \n",
      "test Loss: 2.3404 Accuracy: 0.4905 \n",
      "Epoch 6/29\n",
      "----------\n",
      "train Loss: 0.1577 Accuracy: 0.9385 \n",
      "test Loss: 2.4600 Accuracy: 0.5025 \n",
      "Trigger Times: 1\n",
      "Epoch 7/29\n",
      "----------\n",
      "train Loss: 0.1095 Accuracy: 0.9580 \n",
      "test Loss: 2.7401 Accuracy: 0.4988 \n",
      "Trigger Times: 2\n",
      "Epoch 8/29\n",
      "----------\n",
      "train Loss: 0.0995 Accuracy: 0.9619 \n",
      "test Loss: 2.9764 Accuracy: 0.4925 \n",
      "Trigger Times: 3\n",
      "Epoch 9/29\n",
      "----------\n",
      "train Loss: 0.0926 Accuracy: 0.9638 \n",
      "test Loss: 3.0952 Accuracy: 0.4921 \n",
      "Trigger Times: 4\n",
      "Epoch 10/29\n",
      "----------\n",
      "train Loss: 0.0869 Accuracy: 0.9646 \n",
      "test Loss: 3.1240 Accuracy: 0.4996 \n",
      "Trigger Times: 5\n",
      "Epoch 11/29\n",
      "----------\n",
      "train Loss: 0.0828 Accuracy: 0.9679 \n",
      "test Loss: 3.3612 Accuracy: 0.4905 \n",
      "Trigger Times: 6\n",
      "Early stopping!\n",
      "Starting parameters:\n",
      "model=SentimentLSTM_lr=0.005_b=32_t=30_n_layers=3_n_hid=32_p=0.5\n",
      "Epoch 0/29\n",
      "----------\n",
      "train Loss: 0.8642 Accuracy: 0.6058 \n",
      "test Loss: 1.0952 Accuracy: 0.5002 \n",
      "Epoch 1/29\n",
      "----------\n",
      "train Loss: 0.6510 Accuracy: 0.7384 \n",
      "test Loss: 1.0707 Accuracy: 0.5401 \n",
      "Epoch 2/29\n",
      "----------\n",
      "train Loss: 0.4575 Accuracy: 0.8313 \n",
      "test Loss: 1.5527 Accuracy: 0.5010 \n",
      "Epoch 3/29\n",
      "----------\n",
      "train Loss: 0.3186 Accuracy: 0.8880 \n",
      "test Loss: 1.6912 Accuracy: 0.4940 \n",
      "Epoch 4/29\n",
      "----------\n",
      "train Loss: 0.2463 Accuracy: 0.9118 \n",
      "test Loss: 1.8766 Accuracy: 0.4868 \n",
      "Epoch 5/29\n",
      "----------\n",
      "train Loss: 0.1976 Accuracy: 0.9287 \n",
      "test Loss: 1.9390 Accuracy: 0.4899 \n",
      "Epoch 6/29\n",
      "----------\n",
      "train Loss: 0.1727 Accuracy: 0.9380 \n",
      "test Loss: 1.9298 Accuracy: 0.5145 \n",
      "Trigger Times: 1\n",
      "Epoch 7/29\n",
      "----------\n",
      "train Loss: 0.1253 Accuracy: 0.9537 \n",
      "test Loss: 2.8809 Accuracy: 0.4863 \n",
      "Trigger Times: 2\n",
      "Epoch 8/29\n",
      "----------\n",
      "train Loss: 0.1087 Accuracy: 0.9590 \n",
      "test Loss: 3.0922 Accuracy: 0.4915 \n",
      "Trigger Times: 3\n",
      "Epoch 9/29\n",
      "----------\n",
      "train Loss: 0.1006 Accuracy: 0.9632 \n",
      "test Loss: 3.2804 Accuracy: 0.4861 \n",
      "Trigger Times: 4\n",
      "Epoch 10/29\n",
      "----------\n",
      "train Loss: 0.0948 Accuracy: 0.9632 \n",
      "test Loss: 3.2988 Accuracy: 0.4930 \n",
      "Trigger Times: 5\n",
      "Epoch 11/29\n",
      "----------\n",
      "train Loss: 0.0873 Accuracy: 0.9661 \n",
      "test Loss: 3.6228 Accuracy: 0.4861 \n",
      "Trigger Times: 6\n",
      "Early stopping!\n",
      "Best model accuracy: 0.566432119205298\n"
     ]
    }
   ],
   "source": [
    "import random\n",
    "import numpy as np\n",
    "import os\n",
    "\n",
    "os.environ[\"CUDA_LAUNCH_BLOCKING\"] = \"1\"\n",
    "import torch\n",
    "import pandas as pd\n",
    "from torch import nn\n",
    "import os\n",
    "from torch.utils.data import DataLoader, TensorDataset\n",
    "import itertools\n",
    "import time\n",
    "import copy\n",
    "\n",
    "# create Tensor datasets\n",
    "train_data, train_labels = np.load(\"output_files/train_data.npy\"), np.load(\n",
    "    \"output_files/train_labels.npy\"\n",
    ")\n",
    "test_data, test_labels = np.load(\"output_files/test_data.npy\"), np.load(\n",
    "    \"output_files/test_labels.npy\"\n",
    ")\n",
    "train_data = TensorDataset(torch.from_numpy(train_data), torch.from_numpy(train_labels))\n",
    "test_data = TensorDataset(torch.from_numpy(test_data), torch.from_numpy(test_labels))\n",
    "\n",
    "\n",
    "def train_model(\n",
    "    model,\n",
    "    device,\n",
    "    batch_size,\n",
    "    dataloaders,\n",
    "    dataset_sizes,\n",
    "    criterion,\n",
    "    optimizer,\n",
    "    scheduler,\n",
    "    num_epochs=50,\n",
    "):\n",
    "    since = time.time()\n",
    "    best_model_wts = copy.deepcopy(model.state_dict())\n",
    "    trigger_times = 0\n",
    "    loss_dict = {\"train\": [], \"test\": []}\n",
    "    acc_dict = {\"train\": [], \"test\": []}\n",
    "    patience = int(num_epochs // 6) + 1\n",
    "    best_acc = 0\n",
    "    predictions = {\"train\": [], \"test\": []}\n",
    "    best_predictions = {}\n",
    "    for epoch in range(num_epochs):\n",
    "        print(\"Epoch {}/{}\".format(epoch, num_epochs - 1))\n",
    "        print(\"-\" * 10)\n",
    "\n",
    "        # Each epoch has a training and validation phase\n",
    "        for phase in [\"train\", \"test\"]:\n",
    "            predicted_list = []\n",
    "            if phase == \"train\":\n",
    "                model.train()  # Set model to training mode\n",
    "            else:\n",
    "                model.eval()  # Set model to evaluate mode\n",
    "\n",
    "            running_loss = 0.0\n",
    "            correct = 0\n",
    "            total = 0\n",
    "            # Iterate over data.\n",
    "            for inputs, labels in dataloaders[phase]:\n",
    "                if len(labels) != batch_size:\n",
    "                    continue\n",
    "                inputs = inputs.to(device)\n",
    "                labels = labels.to(device)\n",
    "                # zero the parameter gradients\n",
    "                optimizer.zero_grad()\n",
    "                # h = tuple([each.data for each in h])\n",
    "                # forward\n",
    "                # track history if only in train\n",
    "                with torch.set_grad_enabled(phase == \"train\"):\n",
    "                    # forward\n",
    "                    outputs, h = model(inputs.long())\n",
    "                    _, preds = torch.max(outputs, 1, keepdim=True)  # check the labels\n",
    "                    loss = criterion(outputs.squeeze(), labels.long())  # compute loss\n",
    "                    predicted_list.append(preds)\n",
    "                    # backward + optimize only if in training phase\n",
    "                    if phase == \"train\":\n",
    "                        loss.backward()  # backward\n",
    "                        nn.utils.clip_grad_norm_(model.parameters(), 5)\n",
    "                        optimizer.step()  # Optimization step - update weights\n",
    "\n",
    "                # statistics\n",
    "                running_loss += loss.item() * inputs.size(0)\n",
    "                correct += (preds == labels.reshape(-1, 1)).sum()\n",
    "                total += labels.size(0)\n",
    "\n",
    "            if phase == \"train\":\n",
    "                scheduler.step()\n",
    "\n",
    "            predictions[phase] = copy.deepcopy(predicted_list)\n",
    "\n",
    "            epoch_loss = running_loss / dataset_sizes[phase]\n",
    "            epoch_acc = float(correct) / total\n",
    "\n",
    "            print(\n",
    "                \"{} Loss: {:.4f} Accuracy: {:.4f} \".format(phase, epoch_loss, epoch_acc)\n",
    "            )\n",
    "\n",
    "            loss_dict[phase].append(epoch_loss)\n",
    "            acc_dict[phase].append(epoch_acc)\n",
    "\n",
    "            # early stopping\n",
    "            if phase == \"test\":\n",
    "                if epoch_acc > best_acc:\n",
    "                    trigger_times = 0\n",
    "                    best_acc = epoch_acc\n",
    "                    best_model_wts = copy.deepcopy(model.state_dict())\n",
    "                    best_predictions = copy.deepcopy(predictions)\n",
    "                else:\n",
    "                    if epoch > 5:\n",
    "                        trigger_times += 1\n",
    "                        print(\"Trigger Times:\", trigger_times)\n",
    "\n",
    "                if trigger_times >= patience:\n",
    "                    model.load_state_dict(best_model_wts)\n",
    "\n",
    "                    print(\"Early stopping!\")\n",
    "                    return model, loss_dict, acc_dict, best_acc, best_predictions\n",
    "    print()\n",
    "\n",
    "    time_elapsed = time.time() - since\n",
    "    print(\n",
    "        \"Training complete in {:.0f}m {:.0f}s\".format(\n",
    "            time_elapsed // 60, time_elapsed % 60\n",
    "        )\n",
    "    )\n",
    "\n",
    "    # load best model weights\n",
    "    model.load_state_dict(best_model_wts)\n",
    "    return model, loss_dict, acc_dict, best_acc, best_predictions\n",
    "\n",
    "\n",
    "def runner(model, lr=0.01, batch_size=32, num_epochs=20):\n",
    "    # Load datasets\n",
    "    train_loader = DataLoader(train_data, shuffle=True, batch_size=batch_size)\n",
    "    test_loader = DataLoader(test_data, shuffle=False, batch_size=batch_size)\n",
    "\n",
    "    dataloaders = {\"train\": train_loader, \"test\": test_loader}\n",
    "    dataset_sizes = {\"train\": len(train_data), \"test\": len(test_data)}\n",
    "\n",
    "    device = torch.device(\"cuda:0\" if torch.cuda.is_available() else \"cpu\")\n",
    "    model = model.to(device)\n",
    "    criterion = nn.NLLLoss()\n",
    "    optimizer = torch.optim.Adam(model.parameters(), lr=lr)\n",
    "    scheduler = torch.optim.lr_scheduler.StepLR(optimizer, step_size=7, gamma=0.1)\n",
    "\n",
    "    return train_model(\n",
    "        model,\n",
    "        device,\n",
    "        batch_size,\n",
    "        dataloaders,\n",
    "        dataset_sizes,\n",
    "        criterion,\n",
    "        optimizer,\n",
    "        scheduler,\n",
    "        num_epochs,\n",
    "    )\n",
    "\n",
    "\n",
    "## hyperparameter optimization\n",
    "HPO = {\n",
    "    \"batch_size\": [32],\n",
    "    \"lr\": [0.005],\n",
    "    \"epochs\": [30],\n",
    "    \"n_layers\": [1, 3],\n",
    "    \"n_hidden_units\": [32],\n",
    "    \"drop_prob\": [0.3, 0.5],\n",
    "    \"n_emb\": [100],\n",
    "}\n",
    "\n",
    "# create permutations of all possible hyperparameters\n",
    "All_params = list(itertools.product(*(HPO[param] for param in HPO.keys())))\n",
    "random.shuffle(All_params)\n",
    "output_size = 3\n",
    "path = \"save_data\"\n",
    "\n",
    "# Simple LSTM glove loop\n",
    "best_model = None\n",
    "best_model_acc = 0\n",
    "best_model_csv_paths = {}\n",
    "for model_class in [SentimentRNN, SentimentLSTM]:\n",
    "    for i in range(len(All_params)):\n",
    "        curr_params = All_params[i]\n",
    "        batch_size, lr, epochs, n_layers, n_hidden, drop_prob = (\n",
    "            curr_params[0],\n",
    "            curr_params[1],\n",
    "            curr_params[2],\n",
    "            curr_params[3],\n",
    "            curr_params[4],\n",
    "            curr_params[5],\n",
    "        )\n",
    "        curr_params = f\"model={model_class.__name__}_lr={lr}_b={batch_size}_t={epochs}_n_layers={n_layers}_n_hid={n_hidden}_p={drop_prob}\"\n",
    "        print(\"Starting parameters:\")\n",
    "        print(curr_params)\n",
    "        weights_puncs = np.load(\"output_files/weight_mat.npy\")\n",
    "        weights_puncs = torch.from_numpy(weights_puncs)\n",
    "        model = model_class(weights_puncs, output_size, n_hidden, n_layers, drop_prob)\n",
    "        trained_model, loss_dict, acc_dict, best_acc, best_predictions = runner(\n",
    "            model, lr, batch_size, epochs\n",
    "        )\n",
    "        results = f\"_best_acc={round(best_acc, 4)}\"\n",
    "        file_name = curr_params + results\n",
    "        torch.save(\n",
    "            trained_model.state_dict(), os.path.join(path, \"pkl/\" + file_name + \".pkl\")\n",
    "        )\n",
    "        if best_model_acc < best_acc:\n",
    "            best_model_acc = best_acc\n",
    "            best_model = trained_model\n",
    "            best_model_csv_paths = {\n",
    "                \"loss\": os.path.join(path, \"loss/\" + file_name),\n",
    "                \"acc\": os.path.join(path, \"acc/\" + file_name),\n",
    "            }\n",
    "        loss_df = pd.DataFrame(loss_dict)\n",
    "        acc_df = pd.DataFrame(acc_dict)\n",
    "        loss_df.to_csv(os.path.join(path, \"loss/\" + file_name))\n",
    "        acc_df.to_csv(os.path.join(path, \"acc/\" + file_name))\n",
    "\n",
    "print(\"Best model accuracy:\", best_model_acc)"
   ]
  },
  {
   "cell_type": "markdown",
   "metadata": {
    "id": "-L18y704h_Ia"
   },
   "source": [
    "Plotting graphs"
   ]
  },
  {
   "cell_type": "code",
   "execution_count": 19,
   "metadata": {
    "colab": {
     "base_uri": "https://localhost:8080/",
     "height": 957
    },
    "id": "pi6PsYqjh_Ia",
    "outputId": "8b4da7b3-bfe1-4e02-8fcf-d4034d6a1794"
   },
   "outputs": [
    {
     "data": {
      "image/png": "[encoded data removed]",
      "text/plain": [
       "<Figure size 1000x500 with 1 Axes>"
      ]
     },
     "metadata": {},
     "output_type": "display_data"
    },
    {
     "data": {
      "image/png": "[encoded data removed]",
      "text/plain": [
       "<Figure size 1000x500 with 1 Axes>"
      ]
     },
     "metadata": {},
     "output_type": "display_data"
    }
   ],
   "source": [
    "# Read the CSV data into pandas DataFrames\n",
    "acc_df = pd.read_csv(best_model_csv_paths['acc'], index_col=0)\n",
    "loss_df = pd.read_csv(best_model_csv_paths['loss'], index_col=0)\n",
    "\n",
    "# Plot accuracy\n",
    "plt.figure(figsize=(10, 5))\n",
    "plt.plot(acc_df['train'], label='Train Accuracy')\n",
    "plt.plot(acc_df['test'], label='Test Accuracy')\n",
    "plt.title('Training and Test Accuracy')\n",
    "plt.xlabel('Epoch')\n",
    "plt.ylabel('Accuracy')\n",
    "plt.legend()\n",
    "plt.ylim(0)\n",
    "plt.show()\n",
    "\n",
    "# Plot loss\n",
    "plt.figure(figsize=(10, 5))\n",
    "plt.plot(loss_df['train'], label='Train Loss')\n",
    "plt.plot(loss_df['test'], label='Test Loss')\n",
    "plt.title('Training and Test Loss')\n",
    "plt.xlabel('Epoch')\n",
    "plt.ylabel('Loss')\n",
    "plt.legend()\n",
    "plt.show()"
   ]
  },
  {
   "cell_type": "markdown",
   "metadata": {
    "id": "ggmDnLhQh_Ib"
   },
   "source": [
    "Inference for conf matrix"
   ]
  },
  {
   "cell_type": "code",
   "execution_count": 20,
   "metadata": {
    "id": "etMMs7E1h_Ib"
   },
   "outputs": [],
   "source": [
    "import argparse\n",
    "import pandas as pd\n",
    "import torch\n",
    "from collections import OrderedDict\n",
    "import numpy as np\n",
    "import os\n",
    "\n",
    "device = torch.device(\"cuda:0\" if torch.cuda.is_available() else \"cpu\")\n",
    "\n",
    "max_tweet_len = 263\n",
    "\n",
    "model.eval()\n",
    "\n",
    "vocab_to_int = pd.read_csv('output_files/vocab_to_int.csv')\n",
    "vocab_words = vocab_to_int.iloc[:, 0].values\n",
    "vocab_to_int = {key: value for key, value in zip(vocab_words, vocab_to_int.iloc[:, 1])}\n",
    "\n",
    "def decoder(label):\n",
    "    if label == 0:\n",
    "        return 'happiness'\n",
    "    elif label == 1:\n",
    "        return 'neutral'\n",
    "    return 'sadness'\n",
    "\n",
    "def infer_emotion(tweet):\n",
    "    input_transformed = run_preprocessing(tweet, max_tweet_len).long().unsqueeze(0).to(device)\n",
    "    output, _ = best_model(input_transformed.long())  # forward\n",
    "    _, pred = torch.max(output, 1, keepdim=True)  # check the labels\n",
    "    return decoder(int(pred)) # decode the emotion back to str\n",
    "\n",
    "\n",
    "def run_preprocessing(tweet, max_tweet_len):\n",
    "    clean_tweet = preprocess_glove_line(tweet)\n",
    "    clean_tweet_filter = [c for c in clean_tweet.split() if c in vocab_words]\n",
    "    clean_tweet_filter = ' '.join(clean_tweet_filter)\n",
    "    token_tweet = tokenize_line(clean_tweet_filter, vocab_to_int)\n",
    "    final_tweet = pad_features(token_tweet, seq_length=max_tweet_len)\n",
    "    return torch.Tensor(final_tweet)\n",
    "\n",
    "test_data = pd.read_csv(\"testEmotions.csv\")\n",
    "test_data['inferred_emotion'] = test_data['content'].apply(lambda x: infer_emotion(x))\n",
    "train_data = pd.read_csv(\"trainEmotions.csv\")\n",
    "train_data['inferred_emotion'] = train_data['content'].apply(lambda x: infer_emotion(x))\n",
    "\n",
    "\n"
   ]
  },
  {
   "cell_type": "code",
   "execution_count": 21,
   "metadata": {
    "id": "5Oy44k2Vh_Ib"
   },
   "outputs": [],
   "source": [
    "## Confusion Matrix calculation\n",
    "from sklearn.metrics import confusion_matrix\n",
    "import seaborn as sns\n",
    "import matplotlib.pyplot as plt\n",
    "\n",
    "def plot_confusion_mat(y_lab, preds, Data):\n",
    "    ##plot results\n",
    "    cm = confusion_matrix(y_lab, preds)\n",
    "    fig = plt. figure()\n",
    "    ax = fig.add_subplot(111)\n",
    "    sns.heatmap(cm, annot=True, cmap=\"Blues\", fmt='g', ax=ax)\n",
    "    # Labels, title and ticks\n",
    "    ax.set_xlabel('Predicted labels')\n",
    "    ax.set_ylabel('True labels')\n",
    "    ax.set_title(f'{Data} Confusion matrix')\n",
    "    ax.xaxis. set_ticklabels(['Happiness', 'Neutral', 'Sadness'])\n",
    "    ax.yaxis. set_ticklabels(['Happiness', 'Neutral', 'Sadness'])\n",
    "    plt. show()"
   ]
  },
  {
   "cell_type": "markdown",
   "metadata": {
    "id": "hy2NRAfch_Ib"
   },
   "source": [
    "We can see in the confusion matrix, that our model had trouble predicting \"happiness\".</br>\n",
    "Moreover, we see that it had a bias towards sadness, which is interesting to look further into, and might help with improving our model."
   ]
  },
  {
   "cell_type": "code",
   "execution_count": 22,
   "metadata": {
    "colab": {
     "base_uri": "https://localhost:8080/",
     "height": 472
    },
    "id": "fRihNDx3h_Ib",
    "outputId": "7075c240-4772-4637-d27e-407af5c8e9db"
   },
   "outputs": [
    {
     "data": {
      "image/png": "[encoded data removed]",
      "text/plain": [
       "<Figure size 640x480 with 2 Axes>"
      ]
     },
     "metadata": {},
     "output_type": "display_data"
    }
   ],
   "source": [
    "pred_test = test_data['inferred_emotion'].values\n",
    "real_test = test_data['emotion'].values\n",
    "\n",
    "plot_confusion_mat(real_test, pred_test,'Test')"
   ]
  },
  {
   "cell_type": "code",
   "execution_count": 23,
   "metadata": {
    "colab": {
     "base_uri": "https://localhost:8080/",
     "height": 472
    },
    "id": "v1MAbKo2h_Ic",
    "outputId": "a6ccd9ef-fba8-4683-aa10-d6dfc0809158"
   },
   "outputs": [
    {
     "data": {
      "image/png": "[encoded data removed]",
      "text/plain": [
       "<Figure size 640x480 with 2 Axes>"
      ]
     },
     "metadata": {},
     "output_type": "display_data"
    }
   ],
   "source": [
    "pred_train = train_data['inferred_emotion'].values\n",
    "real_train = train_data['emotion'].values\n",
    "\n",
    "plot_confusion_mat(real_train, pred_train, 'Train')"
   ]
  },
  {
   "cell_type": "markdown",
   "metadata": {
    "id": "twc7wdbiMaxR"
   },
   "source": [
    "*****************************"
   ]
  },
  {
   "cell_type": "markdown",
   "metadata": {
    "id": "yDYMelVvMaxR"
   },
   "source": [
    "### c) Discussion (10 pt)\n",
    "<p style=\"font-size: 17px\">\n",
    "Discuss the differences in the methods you have tried.\n",
    "</p>"
   ]
  },
  {
   "cell_type": "markdown",
   "metadata": {
    "id": "ckvF57N0MaxR"
   },
   "source": [
    "*****************************"
   ]
  },
  {
   "cell_type": "markdown",
   "metadata": {
    "id": "ioFJeGLxh_Ic"
   },
   "source": [
    "### 1. Different models\n",
    "While trying both RNN and LSTM, our assumption was that LSTM would perform significantly better. While it did perform better, RNN had respectable results.\n",
    "\n",
    "### 2. Bi VS One directional LSTM\n",
    "As expected, Bi-LSTM performed better for out task, we can use context from both ends of the tweet, which might help us with our sentiment analysis.\n",
    "\n",
    "\n",
    "### 3. Different parameters\n",
    "We created a convenient infrastructure in order to easily try out different parameters. After some trial and error, we reached our optimal params:</br>\n",
    "Batch Size: 32</br>\n",
    "Learning Rate (lr): 0.005</br>\n",
    "Epochs: 30</br>\n",
    "Number of Layers: 3</br>\n",
    "Number of Hidden Units: 32</br>\n",
    "Dropout Probability: 0.5</br>\n",
    "Number of Embedding Units: 100</br>\n",
    "Model: Bi-LSTM\n",
    "\n",
    "### 4. Preprocessing\n",
    "A significant portion of our work was preprocessing. This has significantly increased perfomance.\n",
    "\n",
    "### 5. Regularization and optimization\n",
    "Using gradient clipping and dropout helps us deal with regularization and exploding gradients.</br>\n",
    "For some optimizatin, we implemented early stopping, to speed up our testing."
   ]
  }
 ],
 "metadata": {
  "accelerator": "GPU",
  "colab": {
   "gpuType": "T4",
   "provenance": []
  },
  "datalore": {
   "base_environment": "default",
   "computation_mode": "JUPYTER",
   "package_manager": "pip",
   "packages": [],
   "report_row_ids": [],
   "version": 3
  },
  "kernelspec": {
   "display_name": "Python 3 (ipykernel)",
   "language": "python",
   "name": "python3"
  },
  "language_info": {
   "codemirror_mode": {
    "name": "ipython",
    "version": 3
   },
   "file_extension": ".py",
   "mimetype": "text/x-python",
   "name": "python",
   "nbconvert_exporter": "python",
   "pygments_lexer": "ipython3",
   "version": "3.12.2"
  }
 },
 "nbformat": 4,
 "nbformat_minor": 1
}
